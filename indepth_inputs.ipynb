{
 "cells": [
  {
   "cell_type": "code",
   "execution_count": 1,
   "metadata": {},
   "outputs": [],
   "source": [
    "import pandas as pd"
   ]
  },
  {
   "cell_type": "markdown",
   "metadata": {},
   "source": [
    "# Inputs Script\n",
    "This will first find a random entry from the inputs for the testing data set, then find the nuclide vector belonging to the entry. After saving this information to a CSV file, an input file will be generated with the nuclide vector being the final inventory. "
   ]
  },
  {
   "cell_type": "markdown",
   "metadata": {},
   "source": [
    "## Random Entry"
   ]
  },
  {
   "cell_type": "code",
   "execution_count": 2,
   "metadata": {},
   "outputs": [],
   "source": [
    "pkl = 'orxtr_for_indepth_8dec.pkl'\n",
    "df = pd.read_pickle(pkl)"
   ]
  },
  {
   "cell_type": "code",
   "execution_count": 7,
   "metadata": {},
   "outputs": [],
   "source": [
    "# this selects a random row\n",
    "# may need to do some more work making sure it samples the db evenly \n",
    "# ...but for now we can just track it \n",
    "vector = df.sample(1)"
   ]
  },
  {
   "cell_type": "markdown",
   "metadata": {},
   "source": [
    "## Nuclide Vector"
   ]
  },
  {
   "cell_type": "code",
   "execution_count": 9,
   "metadata": {},
   "outputs": [],
   "source": [
    "# save vector as csv\n",
    "params = vector.iloc[:, 0:5]\n",
    "nuc_inv = vector.iloc[:, 5:-1]\n",
    "nuc_inv.to_csv('final_inv.csv')"
   ]
  },
  {
   "cell_type": "code",
   "execution_count": 8,
   "metadata": {},
   "outputs": [
    {
     "data": {
      "text/html": [
       "<div>\n",
       "<style scoped>\n",
       "    .dataframe tbody tr th:only-of-type {\n",
       "        vertical-align: middle;\n",
       "    }\n",
       "\n",
       "    .dataframe tbody tr th {\n",
       "        vertical-align: top;\n",
       "    }\n",
       "\n",
       "    .dataframe thead th {\n",
       "        text-align: right;\n",
       "    }\n",
       "</style>\n",
       "<table border=\"1\" class=\"dataframe\">\n",
       "  <thead>\n",
       "    <tr style=\"text-align: right;\">\n",
       "      <th></th>\n",
       "      <th>Burnup</th>\n",
       "      <th>CoolingTime</th>\n",
       "      <th>Enrichment</th>\n",
       "      <th>OrigenReactor</th>\n",
       "      <th>ReactorType</th>\n",
       "      <th>ba138</th>\n",
       "      <th>ce140</th>\n",
       "      <th>ce142</th>\n",
       "      <th>ce144</th>\n",
       "      <th>cs133</th>\n",
       "      <th>...</th>\n",
       "      <th>xe131</th>\n",
       "      <th>xe132</th>\n",
       "      <th>xe134</th>\n",
       "      <th>xe136</th>\n",
       "      <th>y89</th>\n",
       "      <th>zr91</th>\n",
       "      <th>zr92</th>\n",
       "      <th>zr93</th>\n",
       "      <th>zr94</th>\n",
       "      <th>zr96</th>\n",
       "    </tr>\n",
       "  </thead>\n",
       "  <tbody>\n",
       "    <tr>\n",
       "      <th>2.592e+03</th>\n",
       "      <td>6000</td>\n",
       "      <td>2292.0</td>\n",
       "      <td>3.0</td>\n",
       "      <td>ge10x10-8</td>\n",
       "      <td>bwr</td>\n",
       "      <td>1.78</td>\n",
       "      <td>1.651</td>\n",
       "      <td>1.524</td>\n",
       "      <td>NaN</td>\n",
       "      <td>1.775</td>\n",
       "      <td>...</td>\n",
       "      <td>NaN</td>\n",
       "      <td>1.267</td>\n",
       "      <td>2.109</td>\n",
       "      <td>2.891</td>\n",
       "      <td>1.138</td>\n",
       "      <td>1.421</td>\n",
       "      <td>1.487</td>\n",
       "      <td>1.592</td>\n",
       "      <td>1.636</td>\n",
       "      <td>1.653</td>\n",
       "    </tr>\n",
       "  </tbody>\n",
       "</table>\n",
       "<p>1 rows × 52 columns</p>\n",
       "</div>"
      ],
      "text/plain": [
       "           Burnup  CoolingTime  Enrichment OrigenReactor ReactorType  ba138  \\\n",
       "2.592e+03    6000       2292.0         3.0     ge10x10-8         bwr   1.78   \n",
       "\n",
       "           ce140  ce142  ce144  cs133  ...    xe131  xe132  xe134  xe136  \\\n",
       "2.592e+03  1.651  1.524    NaN  1.775  ...      NaN  1.267  2.109  2.891   \n",
       "\n",
       "             y89   zr91   zr92   zr93   zr94   zr96  \n",
       "2.592e+03  1.138  1.421  1.487  1.592  1.636  1.653  \n",
       "\n",
       "[1 rows x 52 columns]"
      ]
     },
     "execution_count": 8,
     "metadata": {},
     "output_type": "execute_result"
    }
   ],
   "source": [
    "# make params to dict for input file\n",
    "vector"
   ]
  },
  {
   "cell_type": "code",
   "execution_count": null,
   "metadata": {},
   "outputs": [],
   "source": []
  },
  {
   "cell_type": "markdown",
   "metadata": {},
   "source": [
    "## Formatting for INDEPTH"
   ]
  },
  {
   "cell_type": "code",
   "execution_count": null,
   "metadata": {
    "collapsed": true
   },
   "outputs": [],
   "source": []
  },
  {
   "cell_type": "markdown",
   "metadata": {},
   "source": [
    "## Automate input file"
   ]
  },
  {
   "cell_type": "code",
   "execution_count": null,
   "metadata": {
    "collapsed": true
   },
   "outputs": [],
   "source": [
    "\"\"\"\n",
    "titl=Test INDEPTH with Atrium 10x10\n",
    "arplib=atrium10x10-9\n",
    "type=standard\n",
    "libr=acti fipr end\n",
    "enrich=4.0\n",
    "ncyc=1\n",
    "mod=0.72\n",
    "reload=no\n",
    "gamunc=3\n",
    "calc=0\n",
    "ini=0\n",
    "burn=2 1 20 0.1\n",
    "read components\n",
    "    initial= \n",
    "        u234 356 \n",
    "        u235 28000 \n",
    "        u236 184 \n",
    "        u238 971460\n",
    "        end\n",
    "    final= final_nuc.csv\n",
    "end components\n",
    "read history\n",
    "    power=20 down=7 burn=20000 end\n",
    "end history\n",
    "read optimize\n",
    "    itmax=10 \n",
    "    alpha=1.0\n",
    "            parmkey x0     sf    xmax   xmin\n",
    "    params= \n",
    "            burn    20000  1000  80000  100\n",
    "            down    1000   10    10000  1\n",
    "            end\n",
    "end optimize\n",
    "\"\"\""
   ]
  }
 ],
 "metadata": {
  "kernelspec": {
   "display_name": "Python 3",
   "language": "python",
   "name": "python3"
  },
  "language_info": {
   "codemirror_mode": {
    "name": "ipython",
    "version": 3
   },
   "file_extension": ".py",
   "mimetype": "text/x-python",
   "name": "python",
   "nbconvert_exporter": "python",
   "pygments_lexer": "ipython3",
   "version": "3.5.2"
  }
 },
 "nbformat": 4,
 "nbformat_minor": 1
}
