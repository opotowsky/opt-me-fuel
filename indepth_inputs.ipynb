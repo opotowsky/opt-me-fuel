{
 "cells": [
  {
   "cell_type": "code",
   "execution_count": 4,
   "metadata": {
    "collapsed": true
   },
   "outputs": [],
   "source": [
    "import pandas as pd"
   ]
  },
  {
   "cell_type": "markdown",
   "metadata": {},
   "source": [
    "# Inputs Script\n",
    "This will first find a random entry from the inputs for the testing data set, then find the nuclide vector belonging to the entry. After saving this information to a CSV file, an input file will be generated with the nuclide vector being the final inventory. "
   ]
  },
  {
   "cell_type": "markdown",
   "metadata": {},
   "source": [
    "## Random Entry"
   ]
  },
  {
   "cell_type": "code",
   "execution_count": 26,
   "metadata": {},
   "outputs": [
    {
     "data": {
      "text/html": [
       "<div>\n",
       "<style>\n",
       "    .dataframe thead tr:only-child th {\n",
       "        text-align: right;\n",
       "    }\n",
       "\n",
       "    .dataframe thead th {\n",
       "        text-align: left;\n",
       "    }\n",
       "\n",
       "    .dataframe tbody tr th {\n",
       "        vertical-align: top;\n",
       "    }\n",
       "</style>\n",
       "<table border=\"1\" class=\"dataframe\">\n",
       "  <thead>\n",
       "    <tr style=\"text-align: right;\">\n",
       "      <th></th>\n",
       "      <th>Burnup</th>\n",
       "      <th>CoolingTime</th>\n",
       "      <th>Enrichment</th>\n",
       "      <th>OrigenReactor</th>\n",
       "      <th>ReactorType</th>\n",
       "      <th>ba138</th>\n",
       "      <th>ce140</th>\n",
       "      <th>ce142</th>\n",
       "      <th>ce144</th>\n",
       "      <th>cs133</th>\n",
       "      <th>...</th>\n",
       "      <th>xe131</th>\n",
       "      <th>xe132</th>\n",
       "      <th>xe134</th>\n",
       "      <th>xe136</th>\n",
       "      <th>y89</th>\n",
       "      <th>zr91</th>\n",
       "      <th>zr92</th>\n",
       "      <th>zr93</th>\n",
       "      <th>zr94</th>\n",
       "      <th>zr96</th>\n",
       "    </tr>\n",
       "  </thead>\n",
       "  <tbody>\n",
       "    <tr>\n",
       "      <th>1.500e+02.1</th>\n",
       "      <td>3000</td>\n",
       "      <td>0.000694</td>\n",
       "      <td>1.5</td>\n",
       "      <td>ge8x8-1</td>\n",
       "      <td>bwr</td>\n",
       "      <td>0.9091</td>\n",
       "      <td>0.7275</td>\n",
       "      <td>0.7834</td>\n",
       "      <td>NaN</td>\n",
       "      <td>0.852</td>\n",
       "      <td>...</td>\n",
       "      <td>NaN</td>\n",
       "      <td>0.5879</td>\n",
       "      <td>1.067</td>\n",
       "      <td>1.476</td>\n",
       "      <td>0.3588</td>\n",
       "      <td>0.4084</td>\n",
       "      <td>0.789</td>\n",
       "      <td>0.8346</td>\n",
       "      <td>0.8568</td>\n",
       "      <td>0.8516</td>\n",
       "    </tr>\n",
       "    <tr>\n",
       "      <th>3.300e+02</th>\n",
       "      <td>9000</td>\n",
       "      <td>30.000000</td>\n",
       "      <td>1.5</td>\n",
       "      <td>s14x14</td>\n",
       "      <td>pwr</td>\n",
       "      <td>2.6860</td>\n",
       "      <td>2.4950</td>\n",
       "      <td>2.3060</td>\n",
       "      <td>NaN</td>\n",
       "      <td>2.656</td>\n",
       "      <td>...</td>\n",
       "      <td>NaN</td>\n",
       "      <td>1.9090</td>\n",
       "      <td>3.178</td>\n",
       "      <td>4.669</td>\n",
       "      <td>1.4680</td>\n",
       "      <td>1.7540</td>\n",
       "      <td>2.249</td>\n",
       "      <td>2.4040</td>\n",
       "      <td>2.4760</td>\n",
       "      <td>2.4860</td>\n",
       "    </tr>\n",
       "    <tr>\n",
       "      <th>3.592e+03</th>\n",
       "      <td>39000</td>\n",
       "      <td>2292.000000</td>\n",
       "      <td>5.0</td>\n",
       "      <td>ce16x16</td>\n",
       "      <td>pwr</td>\n",
       "      <td>10.9100</td>\n",
       "      <td>10.2400</td>\n",
       "      <td>9.0360</td>\n",
       "      <td>NaN</td>\n",
       "      <td>9.717</td>\n",
       "      <td>...</td>\n",
       "      <td>NaN</td>\n",
       "      <td>10.3100</td>\n",
       "      <td>13.230</td>\n",
       "      <td>19.560</td>\n",
       "      <td>5.2720</td>\n",
       "      <td>6.8440</td>\n",
       "      <td>7.486</td>\n",
       "      <td>8.3150</td>\n",
       "      <td>8.9520</td>\n",
       "      <td>9.4890</td>\n",
       "    </tr>\n",
       "    <tr>\n",
       "      <th>2.130e+03</th>\n",
       "      <td>42000</td>\n",
       "      <td>30.000000</td>\n",
       "      <td>1.5</td>\n",
       "      <td>atrium9x9-9</td>\n",
       "      <td>bwr</td>\n",
       "      <td>11.9000</td>\n",
       "      <td>11.1700</td>\n",
       "      <td>9.8750</td>\n",
       "      <td>NaN</td>\n",
       "      <td>10.400</td>\n",
       "      <td>...</td>\n",
       "      <td>NaN</td>\n",
       "      <td>11.1300</td>\n",
       "      <td>14.350</td>\n",
       "      <td>21.920</td>\n",
       "      <td>5.9080</td>\n",
       "      <td>7.5550</td>\n",
       "      <td>8.402</td>\n",
       "      <td>9.2570</td>\n",
       "      <td>9.9130</td>\n",
       "      <td>10.3800</td>\n",
       "    </tr>\n",
       "    <tr>\n",
       "      <th>3.692e+03</th>\n",
       "      <td>42000</td>\n",
       "      <td>2292.000000</td>\n",
       "      <td>1.5</td>\n",
       "      <td>w15x15</td>\n",
       "      <td>pwr</td>\n",
       "      <td>11.8800</td>\n",
       "      <td>11.2200</td>\n",
       "      <td>9.8700</td>\n",
       "      <td>NaN</td>\n",
       "      <td>10.410</td>\n",
       "      <td>...</td>\n",
       "      <td>NaN</td>\n",
       "      <td>11.1600</td>\n",
       "      <td>14.350</td>\n",
       "      <td>22.540</td>\n",
       "      <td>5.9260</td>\n",
       "      <td>7.6300</td>\n",
       "      <td>8.320</td>\n",
       "      <td>9.1830</td>\n",
       "      <td>9.8580</td>\n",
       "      <td>10.3400</td>\n",
       "    </tr>\n",
       "  </tbody>\n",
       "</table>\n",
       "<p>5 rows × 52 columns</p>\n",
       "</div>"
      ],
      "text/plain": [
       "             Burnup  CoolingTime  Enrichment OrigenReactor ReactorType  \\\n",
       "1.500e+02.1    3000     0.000694         1.5       ge8x8-1         bwr   \n",
       "3.300e+02      9000    30.000000         1.5        s14x14         pwr   \n",
       "3.592e+03     39000  2292.000000         5.0       ce16x16         pwr   \n",
       "2.130e+03     42000    30.000000         1.5   atrium9x9-9         bwr   \n",
       "3.692e+03     42000  2292.000000         1.5        w15x15         pwr   \n",
       "\n",
       "               ba138    ce140   ce142  ce144   cs133   ...     xe131    xe132  \\\n",
       "1.500e+02.1   0.9091   0.7275  0.7834    NaN   0.852   ...       NaN   0.5879   \n",
       "3.300e+02     2.6860   2.4950  2.3060    NaN   2.656   ...       NaN   1.9090   \n",
       "3.592e+03    10.9100  10.2400  9.0360    NaN   9.717   ...       NaN  10.3100   \n",
       "2.130e+03    11.9000  11.1700  9.8750    NaN  10.400   ...       NaN  11.1300   \n",
       "3.692e+03    11.8800  11.2200  9.8700    NaN  10.410   ...       NaN  11.1600   \n",
       "\n",
       "              xe134   xe136     y89    zr91   zr92    zr93    zr94     zr96  \n",
       "1.500e+02.1   1.067   1.476  0.3588  0.4084  0.789  0.8346  0.8568   0.8516  \n",
       "3.300e+02     3.178   4.669  1.4680  1.7540  2.249  2.4040  2.4760   2.4860  \n",
       "3.592e+03    13.230  19.560  5.2720  6.8440  7.486  8.3150  8.9520   9.4890  \n",
       "2.130e+03    14.350  21.920  5.9080  7.5550  8.402  9.2570  9.9130  10.3800  \n",
       "3.692e+03    14.350  22.540  5.9260  7.6300  8.320  9.1830  9.8580  10.3400  \n",
       "\n",
       "[5 rows x 52 columns]"
      ]
     },
     "execution_count": 26,
     "metadata": {},
     "output_type": "execute_result"
    }
   ],
   "source": [
    "pkl = 'orxtr_for_indepth_8dec.pkl'\n",
    "df = pd.read_pickle(pkl)\n",
    "df.sample(5)"
   ]
  },
  {
   "cell_type": "markdown",
   "metadata": {},
   "source": [
    "## Nuclide Vector"
   ]
  },
  {
   "cell_type": "code",
   "execution_count": null,
   "metadata": {
    "collapsed": true
   },
   "outputs": [],
   "source": []
  },
  {
   "cell_type": "markdown",
   "metadata": {},
   "source": [
    "## Formatting for INDEPTH"
   ]
  },
  {
   "cell_type": "code",
   "execution_count": null,
   "metadata": {
    "collapsed": true
   },
   "outputs": [],
   "source": []
  },
  {
   "cell_type": "markdown",
   "metadata": {},
   "source": [
    "## Automate input file"
   ]
  },
  {
   "cell_type": "code",
   "execution_count": null,
   "metadata": {
    "collapsed": true
   },
   "outputs": [],
   "source": [
    "\"\"\"\n",
    "titl=Test INDEPTH with Atrium 10x10\n",
    "arplib=atrium10x10-9\n",
    "type=standard\n",
    "libr=acti fipr end\n",
    "enrich=4.0\n",
    "ncyc=1\n",
    "mod=0.72\n",
    "reload=no\n",
    "gamunc=3\n",
    "calc=0\n",
    "ini=0\n",
    "burn=2 1 20 0.1\n",
    "read components\n",
    "    initial= U 100.0\n",
    "    final= final_nuc.csv\n",
    "end components\n",
    "read history\n",
    "    power=20 burn=750 down=1115.25 end\n",
    "end history\n",
    "read optimize\n",
    "    itmax=1 bmin=9000 bmax=60000 alpha=1.0 sse=standard end\n",
    "    params= ??? end\n",
    "end optimize\n",
    "\"\"\""
   ]
  }
 ],
 "metadata": {
  "kernelspec": {
   "display_name": "Python 3",
   "language": "python",
   "name": "python3"
  },
  "language_info": {
   "codemirror_mode": {
    "name": "ipython",
    "version": 3
   },
   "file_extension": ".py",
   "mimetype": "text/x-python",
   "name": "python",
   "nbconvert_exporter": "python",
   "pygments_lexer": "ipython3",
   "version": "3.6.3"
  }
 },
 "nbformat": 4,
 "nbformat_minor": 2
}
